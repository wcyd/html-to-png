{
 "cells": [
  {
   "cell_type": "code",
   "execution_count": 1,
   "metadata": {},
   "outputs": [],
   "source": [
    "#导入必要的模块\n",
    "from selenium import webdriver #导入selenium模块\n",
    "from selenium.webdriver.chrome.service import Service #导入Service类\n",
    "from webdriver_manager.chrome import ChromeDriverManager\n",
    "import time"
   ]
  },
  {
   "cell_type": "code",
   "execution_count": 3,
   "metadata": {},
   "outputs": [],
   "source": [
    "# 启动 Chrome 浏览器\n",
    "options = webdriver.ChromeOptions()\n",
    "options.add_argument(\"--headless\")  # 无界面模式\n",
    "options.add_argument(\"--start-maximized\")  # 最大化窗口\n",
    "options.add_argument(\"--window-size=3840x2160\")  # 设置窗口大小为超高清分辨率\n",
    "\n",
    "# 自动下载和设置 ChromeDriver\n",
    "driver = webdriver.Chrome(service=Service(ChromeDriverManager().install()), options=options)\n",
    "\n",
    "# 打开本地 HTML 文件\n",
    "html_file_path = r\"D:/小学数学/电子教材/7年级上册第1章.html\"  # 将此路径替换为你的 HTML 文件路径\n",
    "driver.get(html_file_path)\n",
    "\n",
    "# 给页面加载一些时间，确保所有内容都加载完成\n",
    "time.sleep(2)"
   ]
  },
  {
   "cell_type": "code",
   "execution_count": 4,
   "metadata": {},
   "outputs": [
    {
     "name": "stdout",
     "output_type": "stream",
     "text": [
      "Screenshot saved as screenshot.png\n"
     ]
    }
   ],
   "source": [
    "# 保存整个页面截图\n",
    "screenshot_path = \"screenshot.png\"\n",
    "driver.save_screenshot(screenshot_path)\n",
    "\n",
    "# 关闭浏览器\n",
    "driver.quit()\n",
    "\n",
    "print(f\"Screenshot saved as {screenshot_path}\")"
   ]
  }
 ],
 "metadata": {
  "kernelspec": {
   "display_name": "Python 3",
   "language": "python",
   "name": "python3"
  },
  "language_info": {
   "codemirror_mode": {
    "name": "ipython",
    "version": 3
   },
   "file_extension": ".py",
   "mimetype": "text/x-python",
   "name": "python",
   "nbconvert_exporter": "python",
   "pygments_lexer": "ipython3",
   "version": "3.10.8"
  }
 },
 "nbformat": 4,
 "nbformat_minor": 2
}
